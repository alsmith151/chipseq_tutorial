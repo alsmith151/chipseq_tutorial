{
 "cells": [
  {
   "cell_type": "markdown",
   "metadata": {},
   "source": [
    "# ChIP-seq QC, Alignment and Peak calling\n",
    "\n",
    "All of these commands can be run in a bash terminal by removing the \"!\". This is just a jupyter magic command that runs commands using the shell and not using python."
   ]
  },
  {
   "cell_type": "markdown",
   "metadata": {},
   "source": [
    "## Get the data"
   ]
  },
  {
   "cell_type": "markdown",
   "metadata": {},
   "source": [
    "### Download\n",
    "\n",
    "Wget downloads data from a specfied URL. The files are on the cluster but this should simulate downloading public data."
   ]
  },
  {
   "cell_type": "code",
   "execution_count": 1,
   "metadata": {},
   "outputs": [
    {
     "name": "stdout",
     "output_type": "stream",
     "text": [
      "--2021-03-11 12:24:06--  http://userweb.molbiol.ox.ac.uk/public/asmith/public/chipseq_tutorial/rs411_h3k27ac_chipseq.tar\n",
      "Resolving userweb.molbiol.ox.ac.uk (userweb.molbiol.ox.ac.uk)... 163.1.16.73\n",
      "Connecting to userweb.molbiol.ox.ac.uk (userweb.molbiol.ox.ac.uk)|163.1.16.73|:80... connected.\n",
      "HTTP request sent, awaiting response... 200 OK\n",
      "Length: 2296668160 (2.1G) [application/x-tar]\n",
      "Saving to: ‘rs411_h3k27ac_chipseq.tar.1’\n",
      "\n",
      "100%[====================================>] 2,296,668,160 90.3MB/s   in 24s    \n",
      "\n",
      "2021-03-11 12:24:30 (90.3 MB/s) - ‘rs411_h3k27ac_chipseq.tar.1’ saved [2296668160/2296668160]\n",
      "\n"
     ]
    }
   ],
   "source": [
    "!wget http://userweb.molbiol.ox.ac.uk/public/asmith/public/chipseq_tutorial/rs411_h3k27ac_chipseq.tar"
   ]
  },
  {
   "cell_type": "markdown",
   "metadata": {},
   "source": [
    "### Extract\n",
    "\n",
    "Data is in a TAR archive.These are often gzip compressed to preserve space but I've not done that on this occasion."
   ]
  },
  {
   "cell_type": "code",
   "execution_count": 3,
   "metadata": {},
   "outputs": [
    {
     "name": "stdout",
     "output_type": "stream",
     "text": [
      "RS411-histone_H3K27ac_1.fastq.gz\n",
      "RS411-histone_H3K27ac_2.fastq.gz\n",
      "RS411_input_1.fastq.gz\n",
      "RS411_input_2.fastq.gz\n"
     ]
    }
   ],
   "source": [
    "!tar -xvf rs411_h3k27ac_chipseq.tar"
   ]
  },
  {
   "cell_type": "markdown",
   "metadata": {},
   "source": [
    "## Fastq format\n",
    "\n",
    "The sequence data is in fastq format i.e.\n",
    "\n",
    "@IDENTIFIER\\\n",
    "SEQUENCE\\\n",
    "+\\\n",
    "QUALITY SCORES\n",
    "\n",
    "\n",
    "As this is Paired-End sequencing, Read 1 is present in RS411_input_1.fastq.gz and Read 2 is in RS411_input_2.fastq.gz.\n",
    "\n",
    "The files are too large to open with a standard text editor so the best way to visualise these is with bash commands.\n",
    "\n",
    "```zcat``` opens a gzip compressed file.\n",
    "```|``` Pipes the input from one command to the input of  next.\n",
    "```head``` prints the first n lines.\n"
   ]
  },
  {
   "cell_type": "code",
   "execution_count": 5,
   "metadata": {},
   "outputs": [
    {
     "name": "stdout",
     "output_type": "stream",
     "text": [
      "@NB502048:400:HFM25BGXC:1:11101:18003:1044 1:N:0:GATCAG\n",
      "AGCCANATAATTATTAAAAATACTATATAAATTTACCTTC\n",
      "+\n",
      "<AAA/#/EEEEEAAEEEEEEEEEEEEEEEAEEEE/E/E/E\n",
      "\n",
      "gzip: stdout: Broken pipe\n"
     ]
    }
   ],
   "source": [
    "!zcat RS411_input_1.fastq.gz | head -n 4"
   ]
  },
  {
   "cell_type": "markdown",
   "metadata": {},
   "source": [
    "## Stage 1: QC (Fastqc)\n",
    "\n",
    "```mkdir``` makes a new directory (folder)\n",
    "\n",
    "```fastqc``` analyses the quality of fastq files and generates HTML outputs.  Flags: -q = quiet, -t = number of threads, --outdir = directory to store output\n",
    "\n",
    "Ideally would be best to do this for all fastq files and then use multiqc to merge the results together to produce an easier HTML file. In the interest of time will just do one file."
   ]
  },
  {
   "cell_type": "code",
   "execution_count": 3,
   "metadata": {},
   "outputs": [],
   "source": [
    "!mkdir fastqc\n",
    "!fastqc -q -t 8 RS411_input_1.fastq.gz --outdir fastqc"
   ]
  },
  {
   "cell_type": "markdown",
   "metadata": {},
   "source": [
    "## Stage 2: Trimming\n",
    "\n",
    "```trim_galore``` removes sequencing adapters from reads. It is unusual to find them in ChIP-seq but it doesn't hurt to check. Flags: --cores = Number of threads --paired = process as paired end reads -o = output directory"
   ]
  },
  {
   "cell_type": "code",
   "execution_count": 7,
   "metadata": {},
   "outputs": [
    {
     "name": "stdout",
     "output_type": "stream",
     "text": [
      "Path to Cutadapt set as: 'cutadapt' (default)\n",
      "Cutadapt seems to be working fine (tested command 'cutadapt --version')\n",
      "Cutadapt version: 1.18\n",
      "Could not detect version of Python used by Cutadapt from the first line of Cutadapt (but found this: >>>#!/bin/sh<<<)\n",
      "Letting the (modified) Cutadapt deal with the Python version instead\n",
      "pigz 2.5\n",
      "Parallel gzip (pigz) detected. Proceeding with multicore (de)compression using 4 cores\n",
      "\n",
      "No quality encoding type selected. Assuming that the data provided uses Sanger encoded Phred scores (default)\n",
      "\n",
      "Output will be written into the directory: /t1-data/user/asmith/Projects/chipseq_tutorial/trimmed/\n",
      "pigz: abort: write error on <stdout> (Broken pipe)\n",
      "\n",
      "\n",
      "AUTO-DETECTING ADAPTER TYPE\n",
      "===========================\n",
      "Attempting to auto-detect adapter type from the first 1 million sequences of the first file (>> RS411_input_1.fastq.gz <<)\n",
      "\n",
      "Found perfect matches for the following adapter sequences:\n",
      "Adapter type\tCount\tSequence\tSequences analysed\tPercentage\n",
      "Nextera\t1\tCTGTCTCTTATA\t1000000\t0.00\n",
      "smallRNA\t0\tTGGAATTCTCGG\t1000000\t0.00\n",
      "Illumina\t0\tAGATCGGAAGAGC\t1000000\t0.00\n",
      "Using Nextera adapter for trimming (count: 1). Second best hit was smallRNA (count: 0)\n",
      "\n",
      "pigz: abort: write error on <stdout> (Broken pipe)\n",
      "Writing report to '/t1-data/user/asmith/Projects/chipseq_tutorial/trimmed/RS411_input_1.fastq.gz_trimming_report.txt'\n",
      "\n",
      "SUMMARISING RUN PARAMETERS\n",
      "==========================\n",
      "Input filename: RS411_input_1.fastq.gz\n",
      "Trimming mode: paired-end\n",
      "Trim Galore version: 0.6.6\n",
      "Cutadapt version: 1.18\n",
      "Python version: could not detect\n",
      "Number of cores used for trimming: 4\n",
      "Quality Phred score cutoff: 20\n",
      "Quality encoding type selected: ASCII+33\n",
      "Adapter sequence: 'CTGTCTCTTATA' (Nextera Transposase sequence; auto-detected)\n",
      "Maximum trimming error rate: 0.1 (default)\n",
      "Minimum required adapter overlap (stringency): 1 bp\n",
      "Minimum required sequence length for both reads before a sequence pair gets removed: 20 bp\n",
      "Output file(s) will be GZIP compressed\n",
      "\n",
      "Cutadapt seems to be reasonably up-to-date. Setting -j 4\n",
      "Writing final adapter and quality trimmed output to RS411_input_1_trimmed.fq.gz\n",
      "\n",
      "\n",
      "  >>> Now performing quality (cutoff '-q 20') and adapter trimming in a single pass for the adapter sequence: 'CTGTCTCTTATA' from file RS411_input_1.fastq.gz <<< \n",
      "10000000 sequences processed\n",
      "This is cutadapt 1.18 with Python 3.7.10\n",
      "Command line parameters: -j 4 -e 0.1 -q 20 -O 1 -a CTGTCTCTTATA RS411_input_1.fastq.gz\n",
      "Processing reads on 4 cores in single-end mode ...\n",
      "Finished in 35.07 s (3 us/read; 18.04 M reads/minute).\n",
      "\n",
      "=== Summary ===\n",
      "\n",
      "Total reads processed:              10,542,558\n",
      "Reads with adapters:                 5,109,039 (48.5%)\n",
      "Reads written (passing filters):    10,542,558 (100.0%)\n",
      "\n",
      "Total basepairs processed:   417,220,604 bp\n",
      "Quality-trimmed:               1,924,892 bp (0.5%)\n",
      "Total written (filtered):    408,337,064 bp (97.9%)\n",
      "\n",
      "=== Adapter 1 ===\n",
      "\n",
      "Sequence: CTGTCTCTTATA; Type: regular 3'; Length: 12; Trimmed: 5109039 times.\n",
      "\n",
      "No. of allowed errors:\n",
      "0-9 bp: 0; 10-12 bp: 1\n",
      "\n",
      "Bases preceding removed adapters:\n",
      "  A: 18.6%\n",
      "  C: 33.8%\n",
      "  G: 27.0%\n",
      "  T: 20.6%\n",
      "  none/other: 0.0%\n",
      "\n",
      "Overview of removed sequences\n",
      "length\tcount\texpect\tmax.err\terror counts\n",
      "1\t3885176\t2635639.5\t0\t3885176\n",
      "2\t779881\t658909.9\t0\t779881\n",
      "3\t344731\t164727.5\t0\t344731\n",
      "4\t69542\t41181.9\t0\t69542\n",
      "5\t16384\t10295.5\t0\t16384\n",
      "6\t5776\t2573.9\t0\t5776\n",
      "7\t3790\t643.5\t0\t3790\n",
      "8\t1400\t160.9\t0\t1400\n",
      "9\t269\t40.2\t0\t122 147\n",
      "10\t397\t10.1\t1\t20 377\n",
      "11\t158\t2.5\t1\t5 153\n",
      "12\t54\t0.6\t1\t0 54\n",
      "13\t55\t0.6\t1\t1 54\n",
      "14\t58\t0.6\t1\t1 57\n",
      "15\t72\t0.6\t1\t0 72\n",
      "16\t56\t0.6\t1\t0 56\n",
      "17\t65\t0.6\t1\t0 65\n",
      "18\t47\t0.6\t1\t0 47\n",
      "19\t64\t0.6\t1\t0 64\n",
      "20\t57\t0.6\t1\t2 55\n",
      "21\t55\t0.6\t1\t0 55\n",
      "22\t47\t0.6\t1\t0 47\n",
      "23\t61\t0.6\t1\t2 59\n",
      "24\t65\t0.6\t1\t0 65\n",
      "25\t63\t0.6\t1\t1 62\n",
      "26\t53\t0.6\t1\t1 52\n",
      "27\t29\t0.6\t1\t0 29\n",
      "28\t34\t0.6\t1\t0 34\n",
      "29\t46\t0.6\t1\t0 46\n",
      "30\t54\t0.6\t1\t0 54\n",
      "31\t42\t0.6\t1\t0 42\n",
      "32\t53\t0.6\t1\t0 53\n",
      "33\t52\t0.6\t1\t1 51\n",
      "34\t66\t0.6\t1\t0 66\n",
      "35\t57\t0.6\t1\t0 57\n",
      "36\t51\t0.6\t1\t1 50\n",
      "37\t58\t0.6\t1\t1 57\n",
      "38\t38\t0.6\t1\t0 38\n",
      "39\t37\t0.6\t1\t0 37\n",
      "40\t46\t0.6\t1\t0 46\n",
      "\n",
      "\n",
      "RUN STATISTICS FOR INPUT FILE: RS411_input_1.fastq.gz\n",
      "=============================================\n",
      "10542558 sequences processed in total\n",
      "The length threshold of paired-end sequences gets evaluated later on (in the validation step)\n",
      "\n",
      "Writing report to '/t1-data/user/asmith/Projects/chipseq_tutorial/trimmed/RS411_input_2.fastq.gz_trimming_report.txt'\n",
      "\n",
      "SUMMARISING RUN PARAMETERS\n",
      "==========================\n",
      "Input filename: RS411_input_2.fastq.gz\n",
      "Trimming mode: paired-end\n",
      "Trim Galore version: 0.6.6\n",
      "Cutadapt version: 1.18\n",
      "Python version: could not detect\n",
      "Number of cores used for trimming: 4\n",
      "Quality Phred score cutoff: 20\n",
      "Quality encoding type selected: ASCII+33\n",
      "Adapter sequence: 'CTGTCTCTTATA' (Nextera Transposase sequence; auto-detected)\n",
      "Maximum trimming error rate: 0.1 (default)\n",
      "Minimum required adapter overlap (stringency): 1 bp\n",
      "Minimum required sequence length for both reads before a sequence pair gets removed: 20 bp\n",
      "Output file(s) will be GZIP compressed\n",
      "\n",
      "Cutadapt seems to be reasonably up-to-date. Setting -j -j 4\n",
      "Writing final adapter and quality trimmed output to RS411_input_2_trimmed.fq.gz\n",
      "\n",
      "\n",
      "  >>> Now performing quality (cutoff '-q 20') and adapter trimming in a single pass for the adapter sequence: 'CTGTCTCTTATA' from file RS411_input_2.fastq.gz <<< \n",
      "10000000 sequences processed\n",
      "This is cutadapt 1.18 with Python 3.7.10\n",
      "Command line parameters: -j 4 -e 0.1 -q 20 -O 1 -a CTGTCTCTTATA RS411_input_2.fastq.gz\n",
      "Processing reads on 4 cores in single-end mode ...\n",
      "Finished in 36.26 s (3 us/read; 17.45 M reads/minute).\n",
      "\n",
      "=== Summary ===\n",
      "\n",
      "Total reads processed:              10,542,558\n",
      "Reads with adapters:                 5,132,964 (48.7%)\n",
      "Reads written (passing filters):    10,542,558 (100.0%)\n",
      "\n",
      "Total basepairs processed:   417,165,979 bp\n",
      "Quality-trimmed:               4,815,544 bp (1.2%)\n",
      "Total written (filtered):    405,350,543 bp (97.2%)\n",
      "\n",
      "=== Adapter 1 ===\n",
      "\n",
      "Sequence: CTGTCTCTTATA; Type: regular 3'; Length: 12; Trimmed: 5132964 times.\n",
      "\n",
      "No. of allowed errors:\n",
      "0-9 bp: 0; 10-12 bp: 1\n",
      "\n",
      "Bases preceding removed adapters:\n",
      "  A: 18.7%\n",
      "  C: 33.8%\n",
      "  G: 26.9%\n",
      "  T: 20.6%\n",
      "  none/other: 0.0%\n",
      "\n",
      "Overview of removed sequences\n",
      "length\tcount\texpect\tmax.err\terror counts\n",
      "1\t3888821\t2635639.5\t0\t3888821\n",
      "2\t806387\t658909.9\t0\t806387\n",
      "3\t337953\t164727.5\t0\t337953\n",
      "4\t69433\t41181.9\t0\t69433\n",
      "5\t16686\t10295.5\t0\t16686\n",
      "6\t6084\t2573.9\t0\t6084\n",
      "7\t3672\t643.5\t0\t3672\n",
      "8\t1440\t160.9\t0\t1440\n",
      "9\t250\t40.2\t0\t104 146\n",
      "10\t400\t10.1\t1\t13 387\n",
      "11\t184\t2.5\t1\t4 180\n",
      "12\t76\t0.6\t1\t0 76\n",
      "13\t68\t0.6\t1\t0 68\n",
      "14\t71\t0.6\t1\t1 70\n",
      "15\t65\t0.6\t1\t2 63\n",
      "16\t61\t0.6\t1\t0 61\n",
      "17\t64\t0.6\t1\t0 64\n",
      "18\t59\t0.6\t1\t1 58\n",
      "19\t72\t0.6\t1\t1 71\n",
      "20\t57\t0.6\t1\t1 56\n",
      "21\t63\t0.6\t1\t1 62\n",
      "22\t60\t0.6\t1\t2 58\n",
      "23\t59\t0.6\t1\t1 58\n",
      "24\t48\t0.6\t1\t1 47\n",
      "25\t74\t0.6\t1\t1 73\n",
      "26\t60\t0.6\t1\t1 59\n",
      "27\t45\t0.6\t1\t0 45\n",
      "28\t43\t0.6\t1\t0 43\n",
      "29\t56\t0.6\t1\t0 56\n",
      "30\t45\t0.6\t1\t0 45\n",
      "31\t45\t0.6\t1\t1 44\n",
      "32\t75\t0.6\t1\t0 75\n",
      "33\t53\t0.6\t1\t0 53\n",
      "34\t50\t0.6\t1\t1 49\n",
      "35\t45\t0.6\t1\t0 45\n",
      "36\t50\t0.6\t1\t0 50\n",
      "37\t52\t0.6\t1\t0 52\n",
      "38\t47\t0.6\t1\t0 47\n",
      "39\t49\t0.6\t1\t0 49\n",
      "40\t42\t0.6\t1\t0 42\n",
      "\n",
      "\n",
      "RUN STATISTICS FOR INPUT FILE: RS411_input_2.fastq.gz\n",
      "=============================================\n",
      "10542558 sequences processed in total\n",
      "The length threshold of paired-end sequences gets evaluated later on (in the validation step)\n",
      "\n",
      "Validate paired-end files RS411_input_1_trimmed.fq.gz and RS411_input_2_trimmed.fq.gz\n",
      "file_1: RS411_input_1_trimmed.fq.gz, file_2: RS411_input_2_trimmed.fq.gz\n",
      "\n",
      "\n",
      ">>>>> Now validing the length of the 2 paired-end infiles: RS411_input_1_trimmed.fq.gz and RS411_input_2_trimmed.fq.gz <<<<<\n",
      "Writing validated paired-end Read 1 reads to RS411_input_1_val_1.fq.gz\n",
      "Writing validated paired-end Read 2 reads to RS411_input_2_val_2.fq.gz\n",
      "\n",
      "Total number of sequences analysed: 10542558\n",
      "\n",
      "Number of sequence pairs removed because at least one read was shorter than the length cutoff (20 bp): 77068 (0.73%)\n",
      "\n",
      "Deleting both intermediate output files RS411_input_1_trimmed.fq.gz and RS411_input_2_trimmed.fq.gz\n",
      "\n",
      "====================================================================================================\n",
      "\n",
      "Path to Cutadapt set as: 'cutadapt' (default)\n",
      "Cutadapt seems to be working fine (tested command 'cutadapt --version')\n",
      "Cutadapt version: 1.18\n",
      "Could not detect version of Python used by Cutadapt from the first line of Cutadapt (but found this: >>>#!/bin/sh<<<)\n",
      "Letting the (modified) Cutadapt deal with the Python version instead\n",
      "pigz 2.5\n",
      "Parallel gzip (pigz) detected. Proceeding with multicore (de)compression using 4 cores\n",
      "\n",
      "No quality encoding type selected. Assuming that the data provided uses Sanger encoded Phred scores (default)\n",
      "\n",
      "Output will be written into the directory: /t1-data/user/asmith/Projects/chipseq_tutorial/trimmed/\n",
      "pigz: abort: write error on <stdout> (Broken pipe)\n",
      "\n",
      "\n",
      "AUTO-DETECTING ADAPTER TYPE\n",
      "===========================\n",
      "Attempting to auto-detect adapter type from the first 1 million sequences of the first file (>> RS411-histone_H3K27ac_1.fastq.gz <<)\n",
      "\n",
      "Found perfect matches for the following adapter sequences:\n",
      "Adapter type\tCount\tSequence\tSequences analysed\tPercentage\n",
      "Nextera\t1\tCTGTCTCTTATA\t1000000\t0.00\n",
      "Illumina\t0\tAGATCGGAAGAGC\t1000000\t0.00\n",
      "smallRNA\t0\tTGGAATTCTCGG\t1000000\t0.00\n",
      "Using Nextera adapter for trimming (count: 1). Second best hit was Illumina (count: 0)\n",
      "\n",
      "pigz: abort: write error on <stdout> (Broken pipe)\n",
      "Writing report to '/t1-data/user/asmith/Projects/chipseq_tutorial/trimmed/RS411-histone_H3K27ac_1.fastq.gz_trimming_report.txt'\n",
      "\n",
      "SUMMARISING RUN PARAMETERS\n",
      "==========================\n",
      "Input filename: RS411-histone_H3K27ac_1.fastq.gz\n",
      "Trimming mode: paired-end\n",
      "Trim Galore version: 0.6.6\n",
      "Cutadapt version: 1.18\n",
      "Python version: could not detect\n",
      "Number of cores used for trimming: 4\n",
      "Quality Phred score cutoff: 20\n",
      "Quality encoding type selected: ASCII+33\n",
      "Adapter sequence: 'CTGTCTCTTATA' (Nextera Transposase sequence; auto-detected)\n",
      "Maximum trimming error rate: 0.1 (default)\n",
      "Minimum required adapter overlap (stringency): 1 bp\n",
      "Minimum required sequence length for both reads before a sequence pair gets removed: 20 bp\n",
      "Output file(s) will be GZIP compressed\n",
      "\n",
      "Cutadapt seems to be reasonably up-to-date. Setting -j 4\n",
      "Writing final adapter and quality trimmed output to RS411-histone_H3K27ac_1_trimmed.fq.gz\n",
      "\n",
      "\n",
      "  >>> Now performing quality (cutoff '-q 20') and adapter trimming in a single pass for the adapter sequence: 'CTGTCTCTTATA' from file RS411-histone_H3K27ac_1.fastq.gz <<< \n",
      "10000000 sequences processed\n",
      "20000000 sequences processed\n",
      "This is cutadapt 1.18 with Python 3.7.10\n",
      "Command line parameters: -j 4 -e 0.1 -q 20 -O 1 -a CTGTCTCTTATA RS411-histone_H3K27ac_1.fastq.gz\n",
      "Processing reads on 4 cores in single-end mode ...\n",
      "Finished in 84.50 s (3 us/read; 18.43 M reads/minute).\n",
      "\n",
      "=== Summary ===\n",
      "\n",
      "Total reads processed:              25,960,544\n",
      "Reads with adapters:                11,741,055 (45.2%)\n",
      "Reads written (passing filters):    25,960,544 (100.0%)\n",
      "\n",
      "Total basepairs processed: 1,025,914,659 bp\n",
      "Quality-trimmed:               2,107,898 bp (0.2%)\n",
      "Total written (filtered):  1,007,271,648 bp (98.2%)\n",
      "\n",
      "=== Adapter 1 ===\n",
      "\n",
      "Sequence: CTGTCTCTTATA; Type: regular 3'; Length: 12; Trimmed: 11741055 times.\n",
      "\n",
      "No. of allowed errors:\n",
      "0-9 bp: 0; 10-12 bp: 1\n",
      "\n",
      "Bases preceding removed adapters:\n",
      "  A: 22.8%\n",
      "  C: 28.5%\n",
      "  G: 22.8%\n",
      "  T: 26.0%\n",
      "  none/other: 0.0%\n",
      "\n",
      "Overview of removed sequences\n",
      "length\tcount\texpect\tmax.err\terror counts\n",
      "1\t8529514\t6490136.0\t0\t8529514\n",
      "2\t2168142\t1622534.0\t0\t2168142\n",
      "3\t780061\t405633.5\t0\t780061\n",
      "4\t183541\t101408.4\t0\t183541\n",
      "5\t42694\t25352.1\t0\t42694\n",
      "6\t17022\t6338.0\t0\t17022\n",
      "7\t7692\t1584.5\t0\t7692\n",
      "8\t2908\t396.1\t0\t2908\n",
      "9\t822\t99.0\t0\t380 442\n",
      "10\t1271\t24.8\t1\t36 1235\n",
      "11\t616\t6.2\t1\t20 596\n",
      "12\t236\t1.5\t1\t0 236\n",
      "13\t209\t1.5\t1\t2 207\n",
      "14\t213\t1.5\t1\t1 212\n",
      "15\t236\t1.5\t1\t2 234\n",
      "16\t232\t1.5\t1\t3 229\n",
      "17\t239\t1.5\t1\t1 238\n",
      "18\t221\t1.5\t1\t1 220\n",
      "19\t267\t1.5\t1\t2 265\n",
      "20\t229\t1.5\t1\t3 226\n",
      "21\t248\t1.5\t1\t5 243\n",
      "22\t221\t1.5\t1\t2 219\n",
      "23\t241\t1.5\t1\t2 239\n",
      "24\t263\t1.5\t1\t2 261\n",
      "25\t245\t1.5\t1\t4 241\n",
      "26\t250\t1.5\t1\t3 247\n",
      "27\t241\t1.5\t1\t3 238\n",
      "28\t232\t1.5\t1\t2 230\n",
      "29\t223\t1.5\t1\t4 219\n",
      "30\t222\t1.5\t1\t2 220\n",
      "31\t230\t1.5\t1\t1 229\n",
      "32\t250\t1.5\t1\t4 246\n",
      "33\t266\t1.5\t1\t3 263\n",
      "34\t252\t1.5\t1\t3 249\n",
      "35\t248\t1.5\t1\t0 248\n",
      "36\t243\t1.5\t1\t0 243\n",
      "37\t211\t1.5\t1\t1 210\n",
      "38\t222\t1.5\t1\t2 220\n",
      "39\t210\t1.5\t1\t1 209\n",
      "40\t172\t1.5\t1\t0 172\n",
      "\n",
      "\n",
      "RUN STATISTICS FOR INPUT FILE: RS411-histone_H3K27ac_1.fastq.gz\n",
      "=============================================\n",
      "25960544 sequences processed in total\n",
      "The length threshold of paired-end sequences gets evaluated later on (in the validation step)\n",
      "\n",
      "Writing report to '/t1-data/user/asmith/Projects/chipseq_tutorial/trimmed/RS411-histone_H3K27ac_2.fastq.gz_trimming_report.txt'\n",
      "\n",
      "SUMMARISING RUN PARAMETERS\n",
      "==========================\n",
      "Input filename: RS411-histone_H3K27ac_2.fastq.gz\n",
      "Trimming mode: paired-end\n",
      "Trim Galore version: 0.6.6\n",
      "Cutadapt version: 1.18\n",
      "Python version: could not detect\n",
      "Number of cores used for trimming: 4\n",
      "Quality Phred score cutoff: 20\n",
      "Quality encoding type selected: ASCII+33\n",
      "Adapter sequence: 'CTGTCTCTTATA' (Nextera Transposase sequence; auto-detected)\n",
      "Maximum trimming error rate: 0.1 (default)\n",
      "Minimum required adapter overlap (stringency): 1 bp\n",
      "Minimum required sequence length for both reads before a sequence pair gets removed: 20 bp\n",
      "Output file(s) will be GZIP compressed\n",
      "\n",
      "Cutadapt seems to be reasonably up-to-date. Setting -j -j 4\n",
      "Writing final adapter and quality trimmed output to RS411-histone_H3K27ac_2_trimmed.fq.gz\n",
      "\n",
      "\n",
      "  >>> Now performing quality (cutoff '-q 20') and adapter trimming in a single pass for the adapter sequence: 'CTGTCTCTTATA' from file RS411-histone_H3K27ac_2.fastq.gz <<< \n",
      "10000000 sequences processed\n",
      "20000000 sequences processed\n",
      "This is cutadapt 1.18 with Python 3.7.10\n",
      "Command line parameters: -j 4 -e 0.1 -q 20 -O 1 -a CTGTCTCTTATA RS411-histone_H3K27ac_2.fastq.gz\n",
      "Processing reads on 4 cores in single-end mode ...\n",
      "Finished in 86.68 s (3 us/read; 17.97 M reads/minute).\n",
      "\n",
      "=== Summary ===\n",
      "\n",
      "Total reads processed:              25,960,544\n",
      "Reads with adapters:                11,649,868 (44.9%)\n",
      "Reads written (passing filters):    25,960,544 (100.0%)\n",
      "\n",
      "Total basepairs processed: 1,025,922,640 bp\n",
      "Quality-trimmed:               4,925,276 bp (0.5%)\n",
      "Total written (filtered):  1,004,588,273 bp (97.9%)\n",
      "\n",
      "=== Adapter 1 ===\n",
      "\n",
      "Sequence: CTGTCTCTTATA; Type: regular 3'; Length: 12; Trimmed: 11649868 times.\n",
      "\n",
      "No. of allowed errors:\n",
      "0-9 bp: 0; 10-12 bp: 1\n",
      "\n",
      "Bases preceding removed adapters:\n",
      "  A: 22.7%\n",
      "  C: 28.7%\n",
      "  G: 22.7%\n",
      "  T: 25.8%\n",
      "  none/other: 0.0%\n",
      "\n",
      "Overview of removed sequences\n",
      "length\tcount\texpect\tmax.err\terror counts\n",
      "1\t8456403\t6490136.0\t0\t8456403\n",
      "2\t2159239\t1622534.0\t0\t2159239\n",
      "3\t774344\t405633.5\t0\t774344\n",
      "4\t181530\t101408.4\t0\t181530\n",
      "5\t41761\t25352.1\t0\t41761\n",
      "6\t16777\t6338.0\t0\t16777\n",
      "7\t7492\t1584.5\t0\t7492\n",
      "8\t2824\t396.1\t0\t2824\n",
      "9\t834\t99.0\t0\t362 472\n",
      "10\t1347\t24.8\t1\t37 1310\n",
      "11\t604\t6.2\t1\t13 591\n",
      "12\t225\t1.5\t1\t1 224\n",
      "13\t200\t1.5\t1\t2 198\n",
      "14\t232\t1.5\t1\t2 230\n",
      "15\t251\t1.5\t1\t6 245\n",
      "16\t218\t1.5\t1\t0 218\n",
      "17\t259\t1.5\t1\t1 258\n",
      "18\t257\t1.5\t1\t2 255\n",
      "19\t270\t1.5\t1\t1 269\n",
      "20\t227\t1.5\t1\t2 225\n",
      "21\t241\t1.5\t1\t4 237\n",
      "22\t227\t1.5\t1\t1 226\n",
      "23\t254\t1.5\t1\t3 251\n",
      "24\t239\t1.5\t1\t1 238\n",
      "25\t242\t1.5\t1\t1 241\n",
      "26\t257\t1.5\t1\t0 257\n",
      "27\t204\t1.5\t1\t1 203\n",
      "28\t208\t1.5\t1\t2 206\n",
      "29\t212\t1.5\t1\t0 212\n",
      "30\t236\t1.5\t1\t0 236\n",
      "31\t229\t1.5\t1\t3 226\n",
      "32\t245\t1.5\t1\t3 242\n",
      "33\t244\t1.5\t1\t2 242\n",
      "34\t253\t1.5\t1\t1 252\n",
      "35\t244\t1.5\t1\t1 243\n",
      "36\t221\t1.5\t1\t3 218\n",
      "37\t211\t1.5\t1\t2 209\n",
      "38\t242\t1.5\t1\t1 241\n",
      "39\t182\t1.5\t1\t4 178\n",
      "40\t183\t1.5\t1\t3 180\n",
      "\n",
      "\n",
      "RUN STATISTICS FOR INPUT FILE: RS411-histone_H3K27ac_2.fastq.gz\n",
      "=============================================\n",
      "25960544 sequences processed in total\n",
      "The length threshold of paired-end sequences gets evaluated later on (in the validation step)\n",
      "\n",
      "Validate paired-end files RS411-histone_H3K27ac_1_trimmed.fq.gz and RS411-histone_H3K27ac_2_trimmed.fq.gz\n",
      "file_1: RS411-histone_H3K27ac_1_trimmed.fq.gz, file_2: RS411-histone_H3K27ac_2_trimmed.fq.gz\n",
      "\n",
      "\n",
      ">>>>> Now validing the length of the 2 paired-end infiles: RS411-histone_H3K27ac_1_trimmed.fq.gz and RS411-histone_H3K27ac_2_trimmed.fq.gz <<<<<\n",
      "Writing validated paired-end Read 1 reads to RS411-histone_H3K27ac_1_val_1.fq.gz\n",
      "Writing validated paired-end Read 2 reads to RS411-histone_H3K27ac_2_val_2.fq.gz\n",
      "\n",
      "Total number of sequences analysed: 25960544\n",
      "\n",
      "Number of sequence pairs removed because at least one read was shorter than the length cutoff (20 bp): 67287 (0.26%)\n",
      "\n",
      "Deleting both intermediate output files RS411-histone_H3K27ac_1_trimmed.fq.gz and RS411-histone_H3K27ac_2_trimmed.fq.gz\n",
      "\n",
      "====================================================================================================\n",
      "\n"
     ]
    }
   ],
   "source": [
    "!trim_galore --cores 4 --paired -o trimmed RS411_input_1.fastq.gz RS411_input_2.fastq.gz\n",
    "!trim_galore --cores 4 --paired -o trimmed RS411-histone_H3K27ac_1.fastq.gz RS411-histone_H3K27ac_2.fastq.gz"
   ]
  },
  {
   "cell_type": "markdown",
   "metadata": {},
   "source": [
    "## Stage 3: Alignment\n",
    "\n",
    "Next we need to align the reads to the genome. RS4;11 cells are a human MLL-AF4 leukaemia cell line so we'll allign to the human genome. As our group typically works on the hg19 genome build, we will use this one.\n",
    "\n",
    "```bowtie2``` is the aligner that we will use. This is the one most commonly used for ChIP-seq. Flags: -x = Path to indicies -p = threads. -1 FQ1 -2 FQ2\\\n",
    "```samtools view``` converts BAM <-> SAM. The output of bowtie2 is a SAM file, to reduce storage space, SAM files are converted to a binary BAM format\\\n",
    "```samtools sort``` sorts a bam file\\\n",
    "```samtool index``` creates an index for the bam file. Required for some downstream programs"
   ]
  },
  {
   "cell_type": "code",
   "execution_count": 2,
   "metadata": {},
   "outputs": [
    {
     "name": "stdout",
     "output_type": "stream",
     "text": [
      "mkdir: cannot create directory ‘aligned’: File exists\n"
     ]
    }
   ],
   "source": [
    "!mkdir aligned"
   ]
  },
  {
   "cell_type": "markdown",
   "metadata": {},
   "source": [
    "### Align Input"
   ]
  },
  {
   "cell_type": "code",
   "execution_count": 6,
   "metadata": {},
   "outputs": [
    {
     "name": "stdout",
     "output_type": "stream",
     "text": [
      "10465490 reads; of these:\n",
      "  10465490 (100.00%) were paired; of these:\n",
      "    2388171 (22.82%) aligned concordantly 0 times\n",
      "    6426475 (61.41%) aligned concordantly exactly 1 time\n",
      "    1650844 (15.77%) aligned concordantly >1 times\n",
      "    ----\n",
      "    2388171 pairs aligned concordantly 0 times; of these:\n",
      "      609927 (25.54%) aligned discordantly 1 time\n",
      "    ----\n",
      "    1778244 pairs aligned 0 times concordantly or discordantly; of these:\n",
      "      3556488 mates make up the pairs; of these:\n",
      "        1428632 (40.17%) aligned 0 times\n",
      "        1025548 (28.84%) aligned exactly 1 time\n",
      "        1102308 (30.99%) aligned >1 times\n",
      "93.17% overall alignment rate\n"
     ]
    }
   ],
   "source": [
    "!bowtie2\\\n",
    "--very-fast\\\n",
    "-x /databank/igenomes/Homo_sapiens/UCSC/hg19/Sequence/Bowtie2Index/genome\\\n",
    "-p 8\\\n",
    "-1 trimmed/RS411_input_1_val_1.fq.gz\\\n",
    "-2 trimmed/RS411_input_2_val_2.fq.gz |\\\n",
    "samtools view -b > aligned/RS411_input.bam"
   ]
  },
  {
   "cell_type": "markdown",
   "metadata": {},
   "source": [
    "### Align ChIP"
   ]
  },
  {
   "cell_type": "code",
   "execution_count": 7,
   "metadata": {},
   "outputs": [
    {
     "name": "stdout",
     "output_type": "stream",
     "text": [
      "25893257 reads; of these:\n",
      "  25893257 (100.00%) were paired; of these:\n",
      "    1092869 (4.22%) aligned concordantly 0 times\n",
      "    21787681 (84.14%) aligned concordantly exactly 1 time\n",
      "    3012707 (11.64%) aligned concordantly >1 times\n",
      "    ----\n",
      "    1092869 pairs aligned concordantly 0 times; of these:\n",
      "      167280 (15.31%) aligned discordantly 1 time\n",
      "    ----\n",
      "    925589 pairs aligned 0 times concordantly or discordantly; of these:\n",
      "      1851178 mates make up the pairs; of these:\n",
      "        1145560 (61.88%) aligned 0 times\n",
      "        292261 (15.79%) aligned exactly 1 time\n",
      "        413357 (22.33%) aligned >1 times\n",
      "97.79% overall alignment rate\n"
     ]
    }
   ],
   "source": [
    "!bowtie2\\\n",
    "--very-fast\\\n",
    "-x /databank/igenomes/Homo_sapiens/UCSC/hg19/Sequence/Bowtie2Index/genome\\\n",
    "-p 8\\\n",
    "-1 trimmed/RS411-histone_H3K27ac_1_val_1.fq.gz\\\n",
    "-2 trimmed/RS411-histone_H3K27ac_2_val_2.fq.gz |\\\n",
    "samtools view -b > aligned/RS411_H3K27ac.bam"
   ]
  },
  {
   "cell_type": "markdown",
   "metadata": {},
   "source": [
    "### Look at alignment\n",
    "\n",
    "[BAM](https://support.illumina.com/help/BS_App_RNASeq_Alignment_OLH_1000000006112/Content/Source/Informatics/BAM-Format.htm) files are binary and therefore can't be opened with a regular text editor. Samtools view converts BAM files into a human readable SAM output\n",
    "\n",
    "* Header—Contains information about the entire file, such as sample name, sample length, and alignment method. Alignments in the alignments section are associated with specific information in the header section.\n",
    "* Alignments—Contains read name, read sequence, read quality, alignment information, and custom tags. The read name includes the chromosome, start coordinate, alignment quality, and the match descriptor string.\n",
    "\n",
    "* The alignments section includes the following information for each or read pair:\\\n",
    "\t▶ \tRG: Read group, which indicates the number of reads for a specific sample.\\\n",
    "\t▶ \tBC: Barcode tag, which indicates the demultiplexed sample ID associated with the read.\\\n",
    "\t▶ \tSM: Single-end alignment quality.\\\n",
    "\t▶ \tAS: Paired-end alignment quality.\\\n",
    "\t▶ \tNM: Edit distance tag, which records the Levenshtein distance between the read and the reference.\\\n",
    "\t▶ \tXN: Amplicon name tag, which records the amplicon tile ID associated with the read."
   ]
  },
  {
   "cell_type": "markdown",
   "metadata": {},
   "source": [
    "### Header"
   ]
  },
  {
   "cell_type": "code",
   "execution_count": 11,
   "metadata": {},
   "outputs": [
    {
     "name": "stdout",
     "output_type": "stream",
     "text": [
      "@HD\tVN:1.0\tSO:unsorted\n",
      "@SQ\tSN:chrM\tLN:16571\n",
      "@SQ\tSN:chr1\tLN:249250621\n",
      "@SQ\tSN:chr2\tLN:243199373\n",
      "@SQ\tSN:chr3\tLN:198022430\n",
      "@SQ\tSN:chr4\tLN:191154276\n",
      "@SQ\tSN:chr5\tLN:180915260\n",
      "@SQ\tSN:chr6\tLN:171115067\n",
      "@SQ\tSN:chr7\tLN:159138663\n",
      "@SQ\tSN:chr8\tLN:146364022\n",
      "@SQ\tSN:chr9\tLN:141213431\n",
      "@SQ\tSN:chr10\tLN:135534747\n",
      "@SQ\tSN:chr11\tLN:135006516\n",
      "@SQ\tSN:chr12\tLN:133851895\n",
      "@SQ\tSN:chr13\tLN:115169878\n",
      "@SQ\tSN:chr14\tLN:107349540\n",
      "@SQ\tSN:chr15\tLN:102531392\n",
      "@SQ\tSN:chr16\tLN:90354753\n",
      "@SQ\tSN:chr17\tLN:81195210\n",
      "@SQ\tSN:chr18\tLN:78077248\n",
      "@SQ\tSN:chr19\tLN:59128983\n",
      "@SQ\tSN:chr20\tLN:63025520\n",
      "@SQ\tSN:chr21\tLN:48129895\n",
      "@SQ\tSN:chr22\tLN:51304566\n",
      "@SQ\tSN:chrX\tLN:155270560\n",
      "@SQ\tSN:chrY\tLN:59373566\n",
      "@PG\tID:bowtie2\tPN:bowtie2\tVN:\tCL:\"/t1-data/user/asmith/Software/miniconda3/envs/cc/bin/bowtie2-align-s --wrapper basic-0 --very-fast -x /databank/igenomes/Homo_sapiens/UCSC/hg19/Sequence/Bowtie2Index/genome -p 8 -1 trimmed/RS411_input_1_val_1.fq.gz -2 trimmed/RS411_input_2_val_2.fq.gz\"\n"
     ]
    }
   ],
   "source": [
    "!samtools view -H aligned/RS411_input.bam"
   ]
  },
  {
   "cell_type": "markdown",
   "metadata": {},
   "source": [
    "### Alignments"
   ]
  },
  {
   "cell_type": "code",
   "execution_count": 12,
   "metadata": {},
   "outputs": [
    {
     "name": "stdout",
     "output_type": "stream",
     "text": [
      "NB502048:370:HFM5FBGXC:1:11101:13327:1155\t99\tchr8\t140132068\t42\t39M\t=\t140132246\t214\tAATCGTCGTGAATAGAAAATACATTTCAGCTGGTATCTT\tAAAAAEEEEE6EEAEEEEEAEAAEEEEEEAAEEAEAEEE\tAS:i:0\tXN:i:0\tXM:i:0\tXO:i:0\tXG:i:0\tNM:i:0\tMD:Z:39\tYS:i:0\tYT:Z:CP\n",
      "NB502048:370:HFM5FBGXC:1:11101:13327:1155\t147\tchr8\t140132246\t42\t36M\t=\t140132068\t-214\tGAGACTTTTTGGGAAGAGCCTTCTTGCCATGGTGCA\tEEEEEE6EEEEEEEEEEEEEEEEEEEEEEEEAAAAA\tAS:i:0\tXN:i:0\tXM:i:0\tXO:i:0\tXG:i:0\tNM:i:0\tMD:Z:36\tYS:i:0\tYT:Z:CP\n",
      "NB502048:370:HFM5FBGXC:1:11101:25576:1156\t77\t*\t0\t0\t*\t*\t0\t0\tTTAATCAAGCTGCCAAGCAATACTGCAGTCTATAAATTTT\tAA/AA6EEEE/EAA/E6/E6/A/E6/6/E6E/666///EE\tYT:Z:UP\n",
      "NB502048:370:HFM5FBGXC:1:11101:25576:1156\t141\t*\t0\t0\t*\t*\t0\t0\tACTCCCATGACACCAGACAACAGCCATCACTCCACAACA\t//A/AEEA/EE//EA/E////E/AE/EE/E/A/A///EE\tYT:Z:UP\n",
      "NB502048:370:HFM5FBGXC:1:11101:18558:1158\t83\tchr12\t131692813\t1\t40M\t=\t131692707\t-146\tCCCTGGGGTGTGGGTTCTCCATTTTCAGTGGATTCGATGG\tEEEEEEEEEEEAEE6EEEEEEEEEEEEEEEEEEEEAAAAA\tAS:i:0\tXS:i:0\tXN:i:0\tXM:i:0\tXO:i:0\tXG:i:0\tNM:i:0\tMD:Z:40\tYS:i:0\tYT:Z:CP\n",
      "samtools view: writing to standard output failed: Broken pipe\n",
      "samtools view: error closing standard output: -1\n"
     ]
    }
   ],
   "source": [
    "!samtools view aligned/RS411_H3K27ac.bam | head -n 5"
   ]
  },
  {
   "cell_type": "markdown",
   "metadata": {},
   "source": [
    "### Sort BAM files\n",
    "\n",
    "Required for indexing "
   ]
  },
  {
   "cell_type": "code",
   "execution_count": 13,
   "metadata": {},
   "outputs": [
    {
     "name": "stdout",
     "output_type": "stream",
     "text": [
      "[bam_sort_core] merging from 0 files and 8 in-memory blocks...\n",
      "[bam_sort_core] merging from 8 files and 8 in-memory blocks...\n"
     ]
    }
   ],
   "source": [
    "!samtools sort -o aligned/RS411_input_sorted.bam aligned/RS411_input.bam -@ 8\n",
    "!samtools sort -o aligned/RS411_H3K27ac_sorted.bam aligned/RS411_H3K27ac.bam -@ 8"
   ]
  },
  {
   "cell_type": "markdown",
   "metadata": {},
   "source": [
    "### Index BAM files\n",
    "\n",
    "Required for fast alignment extraction. Used by several downstream programs. "
   ]
  },
  {
   "cell_type": "code",
   "execution_count": 14,
   "metadata": {},
   "outputs": [],
   "source": [
    "!samtools index aligned/RS411_input_sorted.bam\n",
    "!samtools index aligned/RS411_H3K27ac_sorted.bam"
   ]
  },
  {
   "cell_type": "markdown",
   "metadata": {},
   "source": [
    "## Step 4: Generate a BigWig\n",
    "\n",
    "To visualise ChIP-seq tracks on a genome browser BAM files have to be converted into the correct format. Effectively these formats list genomic coordinates and provide a score that can be interpreted by the genome browser. The most commonly used is the BigWig which is a binary version of the [wiggle](https://genome.ucsc.edu/goldenPath/help/wiggle.html) format.\n",
    "\n",
    "Wiggle format mock example:\n",
    "\n",
    "variableStep chrom=chr2\\\n",
    "300701 12.5\\\n",
    "300702 12.5\\\n",
    "300703 12.5\\\n",
    "300704 12.5\\\n",
    "300705 12.5\n",
    "\n",
    "Bigwigs can also be generated from [bedgraph](https://genome.ucsc.edu/goldenPath/help/bedgraph.html) format.\n",
    "\n",
    "Bedgraph mock example:\\\n",
    "chr1    1000    2000    10\\\n",
    "chr1    5000    6000    10\n",
    "\n",
    "There are multiple methods to generate bigwig files from BAM files the two methods I've used are deeptools and HOMER (bam files need converting to a HOMER TagDirectory first).\n",
    "\n",
    "\n",
    "```bamCoverage``` from the deeptools suite is potentially the easiest method for converting sorted and index BAM files to bigwig\n",
    "\n",
    "\n"
   ]
  },
  {
   "cell_type": "code",
   "execution_count": 15,
   "metadata": {},
   "outputs": [
    {
     "name": "stdout",
     "output_type": "stream",
     "text": [
      "mkdir: cannot create directory ‘bigwigs’: File exists\n"
     ]
    }
   ],
   "source": [
    "!mkdir bigwigs"
   ]
  },
  {
   "cell_type": "code",
   "execution_count": 16,
   "metadata": {},
   "outputs": [
    {
     "name": "stdout",
     "output_type": "stream",
     "text": [
      "/bin/bash: bamCoverage: command not found\n",
      "/bin/bash: bamCoverage: command not found\n"
     ]
    }
   ],
   "source": [
    "!bamCoverage -b aligned/RS411_input_sorted.bam -p 8 -o bigwigs/RS411_input.bigWig --effectiveGenomeSize 2864785220 --normalizeUsing RPGC --binSize 50 --smoothLength 100 --extendReads\n",
    "!bamCoverage -b aligned/RS411_H3K27ac_sorted.bam -p 8 -o bigwigs/RS411_H3K27ac.bigWig --effectiveGenomeSize 2864785220 --normalizeUsing RPGC --binSize 50 --smoothLength 100 --extendReads"
   ]
  },
  {
   "cell_type": "markdown",
   "metadata": {},
   "source": [
    "## Step 5: Call peaks\n",
    "\n",
    "Need to identify regions with signal enrichment. \n",
    "\n",
    "```MACS2``` is an older but very widely used peak caller."
   ]
  },
  {
   "cell_type": "code",
   "execution_count": 18,
   "metadata": {},
   "outputs": [],
   "source": [
    "!mkdir peaks"
   ]
  },
  {
   "cell_type": "code",
   "execution_count": 22,
   "metadata": {},
   "outputs": [
    {
     "name": "stdout",
     "output_type": "stream",
     "text": [
      "/bin/bash: macs2: command not found\n"
     ]
    }
   ],
   "source": [
    "!macs2\\\n",
    "callpeak\\\n",
    "-t aligned/RS411_H3K27ac_sorted.bam\\\n",
    "-c aligned/RS411_input_sorted.bam\\\n",
    "-g hs\\\n",
    "-f BAMPE\\\n",
    "-n RS411_H3K27ac\\\n",
    "--outdir peaks"
   ]
  },
  {
   "cell_type": "markdown",
   "metadata": {},
   "source": [
    "# Step 6: Visualisation\n",
    "\n",
    "There are several methods to visualise both the peaks (bed format) and BigWigs that you have generated, two of the most commonly used are:\n",
    "\n",
    "1. [IGV](https://software.broadinstitute.org/software/igv/) - Locally installed and faster than UCSC but less easy to share data/ make publication quality figures.\n",
    "2. [UCSC Genome browser](http://genome-euro.ucsc.edu/) - Web based but need to have a file server to visualise the files (the cluster is able to do this.)\n"
   ]
  },
  {
   "cell_type": "markdown",
   "metadata": {},
   "source": [
    "## IGV\n",
    "\n",
    "IGV should be pre-installed on the cluster but if you want a more up to date version, feel free to run:\n",
    "\n",
    "```\n",
    "conda install igv\n",
    "```\n",
    "\n",
    "To start IGV run:\n",
    "\n",
    "```\n",
    "igv\n",
    "```\n",
    "\n",
    "I find the best way to use the browser is to drag and drop files using the file browser into IGV. Alternatively you can search for files to load using the menu.\n",
    "\n",
    "I can go through this in much more detail if people are interested.\n"
   ]
  },
  {
   "cell_type": "markdown",
   "metadata": {},
   "source": [
    "## UCSC"
   ]
  },
  {
   "cell_type": "markdown",
   "metadata": {},
   "source": [
    "### Move files to an accessible location\n",
    "\n",
    "In order for UCSC to access the files you have generated, these need to be moved to the public directory on the server.\n",
    "\n",
    "The best method is to symlink these files to the public directory."
   ]
  },
  {
   "cell_type": "code",
   "execution_count": 6,
   "metadata": {},
   "outputs": [
    {
     "name": "stdout",
     "output_type": "stream",
     "text": [
      "/t1-data/user/asmith/Projects/chipseq_tutorial\n"
     ]
    }
   ],
   "source": [
    "# Get current path\n",
    "!pwd"
   ]
  },
  {
   "cell_type": "code",
   "execution_count": null,
   "metadata": {},
   "outputs": [],
   "source": [
    "!ln -s PWD_OUTPUT/bigwigs/RS411_input.bigWig /public/USERNAME/\n",
    "!ln -s PWD_OUTPUT/bigwigs/RS411_H3K27ac.bigWig /public/USERNAME/"
   ]
  },
  {
   "cell_type": "markdown",
   "metadata": {},
   "source": [
    "### Visualisation\n",
    "\n",
    "Navigate to: http://genome-euro.ucsc.edu/cgi-bin/hgCustom\n",
    "\n",
    "\n",
    "Fill in the custom track url replacing the bits that I've put in upper case. If it isn't clear in the image, the url is:\n",
    "\n",
    "http://userweb.molbiol.ox.ac.uk/public/USERNAME/PATH_TO_BIGWIG\n",
    "\n",
    "\n",
    "![UCSC custom track](https://github.com/alsmith151/chipseq_tutorial/blob/main/ucsc_custom_track.png)\n",
    "\n"
   ]
  },
  {
   "cell_type": "code",
   "execution_count": null,
   "metadata": {},
   "outputs": [],
   "source": []
  }
 ],
 "metadata": {
  "kernelspec": {
   "display_name": "Python 3",
   "language": "python",
   "name": "python3"
  },
  "language_info": {
   "codemirror_mode": {
    "name": "ipython",
    "version": 3
   },
   "file_extension": ".py",
   "mimetype": "text/x-python",
   "name": "python",
   "nbconvert_exporter": "python",
   "pygments_lexer": "ipython3",
   "version": "3.8.5"
  }
 },
 "nbformat": 4,
 "nbformat_minor": 4
}